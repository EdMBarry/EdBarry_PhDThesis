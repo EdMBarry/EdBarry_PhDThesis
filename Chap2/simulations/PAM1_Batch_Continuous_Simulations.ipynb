{
 "cells": [
  {
   "cell_type": "markdown",
   "metadata": {},
   "source": [
    "# Simulations for batch and continuous PAnMBR model\n",
    "\n",
    "This work mirrors that done for the paper from Puyol 2017. I have decided to rewrite and resimulate the model in Python because I can't be sure that Matlab or Octave will be able to run the code I wrote for versions in 2012 and 2014 and I can't count on having a Matlab license forever.\n",
    "\n",
    "The simulations are done using odeint which is sufficient for the stiff nature of the set of ODEs."
   ]
  },
  {
   "cell_type": "code",
   "execution_count": 5,
   "metadata": {},
   "outputs": [],
   "source": [
    "import numpy as np\n",
    "import pandas as pd\n",
    "import matplotlib.pyplot as plt\n",
    "from scipy.integrate import odeint\n",
    "%matplotlib inline\n",
    "plt.style.use('seaborn-whitegrid')\n",
    "from pam1 import *"
   ]
  },
  {
   "cell_type": "markdown",
   "metadata": {},
   "source": [
    "## Simulation Case 1\n",
    "\n",
    "This case is divided into two test cases: i) Analysis of the effects of limiting $\\mathrm{NH_4\\mbox{-}N}$ and SCOD on each other, and ii) analysis of the effects of limiting $\\mathrm{PO_4\\mbox{-}P}$ and SCOD on each other."
   ]
  },
  {
   "cell_type": "code",
   "execution_count": 8,
   "metadata": {},
   "outputs": [],
   "source": [
    "# 30 W/m2 uniform irradiance\n",
    "#########################################################\n",
    "# USER INPUT\n",
    "num_steps = 800\n",
    "\n",
    "days = 120604/3600/24\n",
    "SS0 = 200.0\n",
    "SAC0 = 500.0\n",
    "SIC0 = 7.0E-6\n",
    "SH20 = 0.0\n",
    "SIN0 = 45  # 45\n",
    "SIP0 = 8.15   # 8.15\n",
    "SI0 = 150.0\n",
    "XPB0 = 500.0\n",
    "XS0 = 300.0\n",
    "XI0 = 100.0\n",
    "\n",
    "##########################################################\n",
    "y0 = [SS0, SAC0, SIC0, SH20, SIN0, SIP0, SI0, XPB0, XS0, XI0,]\n",
    "\n",
    "time_ode = np.linspace(0,days,num_steps)\n",
    "#u_t = interp1d(time_input.squeeze(), full_G850.squeeze())\n",
    "\n",
    "# Store our state outputs here\n",
    "y_out = [y0]\n",
    "\n",
    "# Loop over each point in the dataset\n",
    "\n",
    "for step in range(num_steps - 1):\n",
    "    t = [time_ode[step], time_ode[step+1]]\n",
    "    \n",
    "    # Get G850 for this step\n",
    "    G850 = 50\n",
    "\n",
    "    # Solve the ODEs\n",
    "    soln = odeint(pam_batch, y0, t, args=(G850,))\n",
    "    y_inter = np.float64(soln[1])\n",
    "    y_out.append(y_inter)\n",
    "    y0 = y_inter.tolist()\n",
    "\n",
    "\n",
    "y_out = np.asarray(y_out)\n",
    "df_30 = pd.DataFrame(y_out)\n",
    "df_30['SSout'] =  y_out[:,0]\n",
    "df_30['SACout'] = y_out[:,1]\n",
    "df_30['SICout'] = y_out[:,2]\n",
    "df_30['SH2out'] = y_out[:,3]\n",
    "df_30['SINout'] = y_out[:,4]\n",
    "df_30['SIPout'] = y_out[:,5]\n",
    "df_30['SIout'] = y_out[:,6]\n",
    "df_30['XPBout'] = y_out[:,7]\n",
    "df_30['XSout'] = y_out[:,8]\n",
    "df_30['XIout'] = y_out[:,9] \n",
    "df_30['time'] = time_ode"
   ]
  },
  {
   "cell_type": "code",
   "execution_count": 9,
   "metadata": {},
   "outputs": [
    {
     "data": {
      "text/html": [
       "<div>\n",
       "<style scoped>\n",
       "    .dataframe tbody tr th:only-of-type {\n",
       "        vertical-align: middle;\n",
       "    }\n",
       "\n",
       "    .dataframe tbody tr th {\n",
       "        vertical-align: top;\n",
       "    }\n",
       "\n",
       "    .dataframe thead th {\n",
       "        text-align: right;\n",
       "    }\n",
       "</style>\n",
       "<table border=\"1\" class=\"dataframe\">\n",
       "  <thead>\n",
       "    <tr style=\"text-align: right;\">\n",
       "      <th></th>\n",
       "      <th>0</th>\n",
       "      <th>1</th>\n",
       "      <th>2</th>\n",
       "      <th>3</th>\n",
       "      <th>4</th>\n",
       "      <th>5</th>\n",
       "      <th>6</th>\n",
       "      <th>7</th>\n",
       "      <th>8</th>\n",
       "      <th>9</th>\n",
       "      <th>...</th>\n",
       "      <th>SACout</th>\n",
       "      <th>SICout</th>\n",
       "      <th>SH2out</th>\n",
       "      <th>SINout</th>\n",
       "      <th>SIPout</th>\n",
       "      <th>SIout</th>\n",
       "      <th>XPBout</th>\n",
       "      <th>XSout</th>\n",
       "      <th>XIout</th>\n",
       "      <th>time</th>\n",
       "    </tr>\n",
       "  </thead>\n",
       "  <tbody>\n",
       "    <tr>\n",
       "      <th>0</th>\n",
       "      <td>200.000000</td>\n",
       "      <td>500.000000</td>\n",
       "      <td>0.000007</td>\n",
       "      <td>0.000000</td>\n",
       "      <td>45.000000</td>\n",
       "      <td>8.150000</td>\n",
       "      <td>150.000000</td>\n",
       "      <td>500.000000</td>\n",
       "      <td>300.000000</td>\n",
       "      <td>100.000000</td>\n",
       "      <td>...</td>\n",
       "      <td>500.000000</td>\n",
       "      <td>0.000007</td>\n",
       "      <td>0.000000</td>\n",
       "      <td>45.000000</td>\n",
       "      <td>8.150000</td>\n",
       "      <td>150.000000</td>\n",
       "      <td>500.000000</td>\n",
       "      <td>300.000000</td>\n",
       "      <td>100.000000</td>\n",
       "      <td>0.000000</td>\n",
       "    </tr>\n",
       "    <tr>\n",
       "      <th>1</th>\n",
       "      <td>199.837582</td>\n",
       "      <td>498.932071</td>\n",
       "      <td>0.000014</td>\n",
       "      <td>0.009815</td>\n",
       "      <td>44.898865</td>\n",
       "      <td>8.132381</td>\n",
       "      <td>150.005642</td>\n",
       "      <td>501.155387</td>\n",
       "      <td>300.041545</td>\n",
       "      <td>100.016095</td>\n",
       "      <td>...</td>\n",
       "      <td>498.932071</td>\n",
       "      <td>0.000014</td>\n",
       "      <td>0.009815</td>\n",
       "      <td>44.898865</td>\n",
       "      <td>8.132381</td>\n",
       "      <td>150.005642</td>\n",
       "      <td>501.155387</td>\n",
       "      <td>300.041545</td>\n",
       "      <td>100.016095</td>\n",
       "      <td>0.001747</td>\n",
       "    </tr>\n",
       "    <tr>\n",
       "      <th>2</th>\n",
       "      <td>199.674546</td>\n",
       "      <td>497.862180</td>\n",
       "      <td>0.000021</td>\n",
       "      <td>0.019571</td>\n",
       "      <td>44.797513</td>\n",
       "      <td>8.114724</td>\n",
       "      <td>150.011285</td>\n",
       "      <td>502.313232</td>\n",
       "      <td>300.083267</td>\n",
       "      <td>100.032191</td>\n",
       "      <td>...</td>\n",
       "      <td>497.862180</td>\n",
       "      <td>0.000021</td>\n",
       "      <td>0.019571</td>\n",
       "      <td>44.797513</td>\n",
       "      <td>8.114724</td>\n",
       "      <td>150.011285</td>\n",
       "      <td>502.313232</td>\n",
       "      <td>300.083267</td>\n",
       "      <td>100.032191</td>\n",
       "      <td>0.003494</td>\n",
       "    </tr>\n",
       "    <tr>\n",
       "      <th>3</th>\n",
       "      <td>199.510889</td>\n",
       "      <td>496.790325</td>\n",
       "      <td>0.000028</td>\n",
       "      <td>0.029226</td>\n",
       "      <td>44.695941</td>\n",
       "      <td>8.097029</td>\n",
       "      <td>150.016928</td>\n",
       "      <td>503.473583</td>\n",
       "      <td>300.125166</td>\n",
       "      <td>100.048290</td>\n",
       "      <td>...</td>\n",
       "      <td>496.790325</td>\n",
       "      <td>0.000028</td>\n",
       "      <td>0.029226</td>\n",
       "      <td>44.695941</td>\n",
       "      <td>8.097029</td>\n",
       "      <td>150.016928</td>\n",
       "      <td>503.473583</td>\n",
       "      <td>300.125166</td>\n",
       "      <td>100.048290</td>\n",
       "      <td>0.005241</td>\n",
       "    </tr>\n",
       "    <tr>\n",
       "      <th>4</th>\n",
       "      <td>199.346608</td>\n",
       "      <td>495.716506</td>\n",
       "      <td>0.000035</td>\n",
       "      <td>0.038739</td>\n",
       "      <td>44.594145</td>\n",
       "      <td>8.079295</td>\n",
       "      <td>150.022573</td>\n",
       "      <td>504.636483</td>\n",
       "      <td>300.167243</td>\n",
       "      <td>100.064392</td>\n",
       "      <td>...</td>\n",
       "      <td>495.716506</td>\n",
       "      <td>0.000035</td>\n",
       "      <td>0.038739</td>\n",
       "      <td>44.594145</td>\n",
       "      <td>8.079295</td>\n",
       "      <td>150.022573</td>\n",
       "      <td>504.636483</td>\n",
       "      <td>300.167243</td>\n",
       "      <td>100.064392</td>\n",
       "      <td>0.006988</td>\n",
       "    </tr>\n",
       "  </tbody>\n",
       "</table>\n",
       "<p>5 rows × 21 columns</p>\n",
       "</div>"
      ],
      "text/plain": [
       "            0           1         2         3          4         5  \\\n",
       "0  200.000000  500.000000  0.000007  0.000000  45.000000  8.150000   \n",
       "1  199.837582  498.932071  0.000014  0.009815  44.898865  8.132381   \n",
       "2  199.674546  497.862180  0.000021  0.019571  44.797513  8.114724   \n",
       "3  199.510889  496.790325  0.000028  0.029226  44.695941  8.097029   \n",
       "4  199.346608  495.716506  0.000035  0.038739  44.594145  8.079295   \n",
       "\n",
       "            6           7           8           9  ...      SACout    SICout  \\\n",
       "0  150.000000  500.000000  300.000000  100.000000  ...  500.000000  0.000007   \n",
       "1  150.005642  501.155387  300.041545  100.016095  ...  498.932071  0.000014   \n",
       "2  150.011285  502.313232  300.083267  100.032191  ...  497.862180  0.000021   \n",
       "3  150.016928  503.473583  300.125166  100.048290  ...  496.790325  0.000028   \n",
       "4  150.022573  504.636483  300.167243  100.064392  ...  495.716506  0.000035   \n",
       "\n",
       "     SH2out     SINout    SIPout       SIout      XPBout       XSout  \\\n",
       "0  0.000000  45.000000  8.150000  150.000000  500.000000  300.000000   \n",
       "1  0.009815  44.898865  8.132381  150.005642  501.155387  300.041545   \n",
       "2  0.019571  44.797513  8.114724  150.011285  502.313232  300.083267   \n",
       "3  0.029226  44.695941  8.097029  150.016928  503.473583  300.125166   \n",
       "4  0.038739  44.594145  8.079295  150.022573  504.636483  300.167243   \n",
       "\n",
       "        XIout      time  \n",
       "0  100.000000  0.000000  \n",
       "1  100.016095  0.001747  \n",
       "2  100.032191  0.003494  \n",
       "3  100.048290  0.005241  \n",
       "4  100.064392  0.006988  \n",
       "\n",
       "[5 rows x 21 columns]"
      ]
     },
     "execution_count": 9,
     "metadata": {},
     "output_type": "execute_result"
    }
   ],
   "source": [
    "df_30.head()"
   ]
  },
  {
   "cell_type": "code",
   "execution_count": 23,
   "metadata": {},
   "outputs": [],
   "source": [
    "SS0 = np.arange(start=0.1, stop=500, step=10)\n",
    "SAC0 = np.arange(start=0.1, stop=500, step=10)\n",
    "SIN0 = np.arange(start=0.01, stop=50, step=1)\n"
   ]
  },
  {
   "cell_type": "code",
   "execution_count": 24,
   "metadata": {},
   "outputs": [],
   "source": [
    "SCOD0 = SS0 + SAC0"
   ]
  },
  {
   "cell_type": "code",
   "execution_count": 35,
   "metadata": {},
   "outputs": [],
   "source": [
    "xx, yy = np.meshgrid(SCOD0, SIN0)"
   ]
  },
  {
   "cell_type": "code",
   "execution_count": 44,
   "metadata": {},
   "outputs": [],
   "source": [
    "z = np.sin((xx/10)**2 + yy**2)"
   ]
  },
  {
   "cell_type": "code",
   "execution_count": 47,
   "metadata": {},
   "outputs": [
    {
     "data": {
      "text/plain": [
       "<matplotlib.colorbar.Colorbar at 0x7ff50a330ba8>"
      ]
     },
     "execution_count": 47,
     "metadata": {},
     "output_type": "execute_result"
    },
    {
     "data": {
      "image/png": "[encoded data removed]",
      "text/plain": [
       "<Figure size 432x288 with 2 Axes>"
      ]
     },
     "metadata": {},
     "output_type": "display_data"
    }
   ],
   "source": [
    "plt.contourf(SCOD0, SIN0, z)\n",
    "plt.colorbar()\n"
   ]
  },
  {
   "cell_type": "code",
   "execution_count": 46,
   "metadata": {},
   "outputs": [
    {
     "data": {
      "text/plain": [
       "array([[ 4.99999979e-04, -8.06913184e-01, -4.37248325e-01, ...,\n",
       "        -6.29746789e-01,  6.69799166e-01,  8.01718765e-01],\n",
       "       [ 8.52369598e-01, -9.25625578e-01, -9.95176409e-01, ...,\n",
       "         3.32329891e-01, -2.82176179e-01,  9.28898503e-01],\n",
       "       [-7.82647238e-01,  9.64693714e-01,  9.75929682e-01, ...,\n",
       "        -2.15476870e-01,  1.63728579e-01, -9.66959248e-01],\n",
       "       ...,\n",
       "       [-9.85596303e-01,  7.18971061e-01,  9.60471600e-01, ...,\n",
       "        -6.58735862e-01,  6.18180837e-01, -7.25019567e-01],\n",
       "       [-8.24041218e-01,  3.00958434e-02,  4.93814519e-01, ...,\n",
       "        -9.96846413e-01,  9.91280929e-01, -3.88326461e-02],\n",
       "       [ 9.72997398e-01, -3.88932566e-01, -7.74448742e-01, ...,\n",
       "         9.00963696e-01, -8.76851881e-01,  3.96971334e-01]])"
      ]
     },
     "execution_count": 46,
     "metadata": {},
     "output_type": "execute_result"
    }
   ],
   "source": [
    "z"
   ]
  },
  {
   "cell_type": "code",
   "execution_count": null,
   "metadata": {},
   "outputs": [],
   "source": []
  }
 ],
 "metadata": {
  "kernelspec": {
   "display_name": "Python 3",
   "language": "python",
   "name": "python3"
  },
  "language_info": {
   "codemirror_mode": {
    "name": "ipython",
    "version": 3
   },
   "file_extension": ".py",
   "mimetype": "text/x-python",
   "name": "python",
   "nbconvert_exporter": "python",
   "pygments_lexer": "ipython3",
   "version": "3.6.7"
  }
 },
 "nbformat": 4,
 "nbformat_minor": 2
}
