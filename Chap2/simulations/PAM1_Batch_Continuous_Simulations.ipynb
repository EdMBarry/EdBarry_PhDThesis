{
 "cells": [
  {
   "cell_type": "markdown",
   "metadata": {},
   "source": [
    "# Simulations for batch and continuous PAnMBR model\n",
    "\n",
    "This work mirrors that done for the paper from Puyol 2017. I have decided to rewrite and resimulate the model in Python because I can't be sure that Matlab or Octave will be able to run the code I wrote for versions in 2012 and 2014 and I can't count on having a Matlab license forever.\n",
    "\n",
    "The simulations are done using odeint which is sufficient for the stiff nature of the set of ODEs."
   ]
  },
  {
   "cell_type": "code",
   "execution_count": 1,
   "metadata": {},
   "outputs": [],
   "source": [
    "import numpy as np\n",
    "import pandas as pd\n",
    "import matplotlib.pyplot as plt\n",
    "from scipy.integrate import odeint\n",
    "%matplotlib inline\n",
    "plt.style.use('seaborn-whitegrid')\n",
    "from pam1 import *"
   ]
  },
  {
   "cell_type": "markdown",
   "metadata": {},
   "source": [
    "## Simulation Case 1\n",
    "\n",
    "This case is divided into two test cases: i) Analysis of the effects of limiting $\\mathrm{NH_4\\mbox{-}N}$ and SCOD on each other, and ii) analysis of the effects of limiting $\\mathrm{PO_4\\mbox{-}P}$ and SCOD on each other."
   ]
  },
  {
   "cell_type": "code",
   "execution_count": null,
   "metadata": {},
   "outputs": [],
   "source": []
  },
  {
   "cell_type": "code",
   "execution_count": null,
   "metadata": {},
   "outputs": [],
   "source": []
  },
  {
   "cell_type": "markdown",
   "metadata": {},
   "source": [
    "## Simulation case 2: Analysis of light/dark cycling on PPB metabolism"
   ]
  },
  {
   "cell_type": "code",
   "execution_count": 2,
   "metadata": {},
   "outputs": [],
   "source": [
    "# Switching irradiance\n",
    "#########################################################\n",
    "# USER INPUT\n",
    "num_steps = 800\n",
    "\n",
    "days = 2\n",
    "SS0 = 400.0\n",
    "SAC0 = 400.0\n",
    "SIC0 = 7.0E-6\n",
    "SH20 = 0.0\n",
    "SIN0 = 100  # 45\n",
    "SIP0 = 20   # 8.15\n",
    "SI0 = 150.0\n",
    "XPB0 = 250.0\n",
    "XS0 = 100.0\n",
    "XI0 = 100.0\n",
    "\n",
    "##########################################################\n",
    "y0 = [SS0, SAC0, SIC0, SH20, SIN0, SIP0, SI0, XPB0, XS0, XI0,]\n",
    "\n",
    "time_ode = np.linspace(0,days,num_steps)\n",
    "#u_t = interp1d(time_input.squeeze(), full_G850.squeeze())\n",
    "\n",
    "# Store our state outputs here\n",
    "y_out = [y0]\n",
    "\n",
    "# Loop over each point in the dataset\n",
    "\n",
    "for step in range(num_steps - 1):\n",
    "    t = [time_ode[step], time_ode[step+1]]\n",
    "    \n",
    "    # Get G850 for this step\n",
    "    if t[0] < 0.5 or (t[0] >= 1.0 and t[0] < 1.5):\n",
    "        G850 = 10\n",
    "    else: G850 = 0.0\n",
    "\n",
    "    # Solve the ODEs\n",
    "    soln = odeint(pam_batch, y0, t, args=(G850,))\n",
    "    y_inter = np.float64(soln[1])\n",
    "    y_out.append(y_inter)\n",
    "    y0 = y_inter.tolist()\n",
    "\n",
    "\n",
    "y_out = np.asarray(y_out)\n",
    "df_30 = pd.DataFrame(y_out)\n",
    "df_30['SSout'] =  y_out[:,0]\n",
    "df_30['SACout'] = y_out[:,1]\n",
    "df_30['SICout'] = y_out[:,2]\n",
    "df_30['SH2out'] = y_out[:,3]\n",
    "df_30['SINout'] = y_out[:,4]\n",
    "df_30['SIPout'] = y_out[:,5]\n",
    "df_30['SIout'] = y_out[:,6]\n",
    "df_30['XPBout'] = y_out[:,7]\n",
    "df_30['XSout'] = y_out[:,8]\n",
    "df_30['XIout'] = y_out[:,9] \n",
    "df_30['time'] = time_ode"
   ]
  },
  {
   "cell_type": "code",
   "execution_count": 3,
   "metadata": {},
   "outputs": [],
   "source": [
    "#df_30.to_csv(\"./results/kmch_low.csv\")\n",
    "#df_7.to_csv(\"./results/kmch_high.csv\")"
   ]
  },
  {
   "cell_type": "code",
   "execution_count": 7,
   "metadata": {},
   "outputs": [
    {
     "ename": "KeyError",
     "evalue": "'SH2out'",
     "output_type": "error",
     "traceback": [
      "\u001b[0;31m---------------------------------------------------------------------\u001b[0m",
      "\u001b[0;31mKeyError\u001b[0m                            Traceback (most recent call last)",
      "\u001b[0;32m~/miniconda3/envs/cfd/lib/python3.6/site-packages/pandas/core/indexes/base.py\u001b[0m in \u001b[0;36mget_loc\u001b[0;34m(self, key, method, tolerance)\u001b[0m\n\u001b[1;32m   2655\u001b[0m             \u001b[0;32mtry\u001b[0m\u001b[0;34m:\u001b[0m\u001b[0;34m\u001b[0m\u001b[0;34m\u001b[0m\u001b[0m\n\u001b[0;32m-> 2656\u001b[0;31m                 \u001b[0;32mreturn\u001b[0m \u001b[0mself\u001b[0m\u001b[0;34m.\u001b[0m\u001b[0m_engine\u001b[0m\u001b[0;34m.\u001b[0m\u001b[0mget_loc\u001b[0m\u001b[0;34m(\u001b[0m\u001b[0mkey\u001b[0m\u001b[0;34m)\u001b[0m\u001b[0;34m\u001b[0m\u001b[0;34m\u001b[0m\u001b[0m\n\u001b[0m\u001b[1;32m   2657\u001b[0m             \u001b[0;32mexcept\u001b[0m \u001b[0mKeyError\u001b[0m\u001b[0;34m:\u001b[0m\u001b[0;34m\u001b[0m\u001b[0;34m\u001b[0m\u001b[0m\n",
      "\u001b[0;32mpandas/_libs/index.pyx\u001b[0m in \u001b[0;36mpandas._libs.index.IndexEngine.get_loc\u001b[0;34m()\u001b[0m\n",
      "\u001b[0;32mpandas/_libs/index.pyx\u001b[0m in \u001b[0;36mpandas._libs.index.IndexEngine.get_loc\u001b[0;34m()\u001b[0m\n",
      "\u001b[0;32mpandas/_libs/hashtable_class_helper.pxi\u001b[0m in \u001b[0;36mpandas._libs.hashtable.PyObjectHashTable.get_item\u001b[0;34m()\u001b[0m\n",
      "\u001b[0;32mpandas/_libs/hashtable_class_helper.pxi\u001b[0m in \u001b[0;36mpandas._libs.hashtable.PyObjectHashTable.get_item\u001b[0;34m()\u001b[0m\n",
      "\u001b[0;31mKeyError\u001b[0m: 'SH2out'",
      "\nDuring handling of the above exception, another exception occurred:\n",
      "\u001b[0;31mKeyError\u001b[0m                            Traceback (most recent call last)",
      "\u001b[0;32m<ipython-input-7-7685c8a81f6e>\u001b[0m in \u001b[0;36m<module>\u001b[0;34m\u001b[0m\n\u001b[1;32m     23\u001b[0m \u001b[0;34m\u001b[0m\u001b[0m\n\u001b[1;32m     24\u001b[0m \u001b[0mSCOD_low\u001b[0m \u001b[0;34m=\u001b[0m \u001b[0mkmch_low\u001b[0m\u001b[0;34m[\u001b[0m\u001b[0;34m'SACout'\u001b[0m\u001b[0;34m]\u001b[0m \u001b[0;34m+\u001b[0m \u001b[0mkmch_low\u001b[0m\u001b[0;34m[\u001b[0m\u001b[0;34m'SSout'\u001b[0m\u001b[0;34m]\u001b[0m \u001b[0;34m+\u001b[0m \u001b[0mkmch_low\u001b[0m\u001b[0;34m[\u001b[0m\u001b[0;34m'SH2out'\u001b[0m\u001b[0;34m]\u001b[0m \u001b[0;34m+\u001b[0m \u001b[0mkmch_low\u001b[0m\u001b[0;34m[\u001b[0m\u001b[0;34m'SIout'\u001b[0m\u001b[0;34m]\u001b[0m\u001b[0;34m\u001b[0m\u001b[0;34m\u001b[0m\u001b[0m\n\u001b[0;32m---> 25\u001b[0;31m \u001b[0mSCOD_high\u001b[0m \u001b[0;34m=\u001b[0m \u001b[0mkmch_high\u001b[0m\u001b[0;34m[\u001b[0m\u001b[0;34m'SACout'\u001b[0m\u001b[0;34m]\u001b[0m \u001b[0;34m+\u001b[0m \u001b[0mkmch_high\u001b[0m\u001b[0;34m[\u001b[0m\u001b[0;34m'SSout'\u001b[0m\u001b[0;34m]\u001b[0m \u001b[0;34m+\u001b[0m \u001b[0mkmch_high\u001b[0m\u001b[0;34m[\u001b[0m\u001b[0;34m'SH2out'\u001b[0m\u001b[0;34m]\u001b[0m \u001b[0;34m+\u001b[0m \u001b[0mkmch_high\u001b[0m\u001b[0;34m[\u001b[0m\u001b[0;34m'SIout'\u001b[0m\u001b[0;34m]\u001b[0m\u001b[0;34m\u001b[0m\u001b[0;34m\u001b[0m\u001b[0m\n\u001b[0m\u001b[1;32m     26\u001b[0m \u001b[0;34m\u001b[0m\u001b[0m\n\u001b[1;32m     27\u001b[0m ax1.plot(kmch_low['time'],\n",
      "\u001b[0;32m~/miniconda3/envs/cfd/lib/python3.6/site-packages/pandas/core/frame.py\u001b[0m in \u001b[0;36m__getitem__\u001b[0;34m(self, key)\u001b[0m\n\u001b[1;32m   2925\u001b[0m             \u001b[0;32mif\u001b[0m \u001b[0mself\u001b[0m\u001b[0;34m.\u001b[0m\u001b[0mcolumns\u001b[0m\u001b[0;34m.\u001b[0m\u001b[0mnlevels\u001b[0m \u001b[0;34m>\u001b[0m \u001b[0;36m1\u001b[0m\u001b[0;34m:\u001b[0m\u001b[0;34m\u001b[0m\u001b[0;34m\u001b[0m\u001b[0m\n\u001b[1;32m   2926\u001b[0m                 \u001b[0;32mreturn\u001b[0m \u001b[0mself\u001b[0m\u001b[0;34m.\u001b[0m\u001b[0m_getitem_multilevel\u001b[0m\u001b[0;34m(\u001b[0m\u001b[0mkey\u001b[0m\u001b[0;34m)\u001b[0m\u001b[0;34m\u001b[0m\u001b[0;34m\u001b[0m\u001b[0m\n\u001b[0;32m-> 2927\u001b[0;31m             \u001b[0mindexer\u001b[0m \u001b[0;34m=\u001b[0m \u001b[0mself\u001b[0m\u001b[0;34m.\u001b[0m\u001b[0mcolumns\u001b[0m\u001b[0;34m.\u001b[0m\u001b[0mget_loc\u001b[0m\u001b[0;34m(\u001b[0m\u001b[0mkey\u001b[0m\u001b[0;34m)\u001b[0m\u001b[0;34m\u001b[0m\u001b[0;34m\u001b[0m\u001b[0m\n\u001b[0m\u001b[1;32m   2928\u001b[0m             \u001b[0;32mif\u001b[0m \u001b[0mis_integer\u001b[0m\u001b[0;34m(\u001b[0m\u001b[0mindexer\u001b[0m\u001b[0;34m)\u001b[0m\u001b[0;34m:\u001b[0m\u001b[0;34m\u001b[0m\u001b[0;34m\u001b[0m\u001b[0m\n\u001b[1;32m   2929\u001b[0m                 \u001b[0mindexer\u001b[0m \u001b[0;34m=\u001b[0m \u001b[0;34m[\u001b[0m\u001b[0mindexer\u001b[0m\u001b[0;34m]\u001b[0m\u001b[0;34m\u001b[0m\u001b[0;34m\u001b[0m\u001b[0m\n",
      "\u001b[0;32m~/miniconda3/envs/cfd/lib/python3.6/site-packages/pandas/core/indexes/base.py\u001b[0m in \u001b[0;36mget_loc\u001b[0;34m(self, key, method, tolerance)\u001b[0m\n\u001b[1;32m   2656\u001b[0m                 \u001b[0;32mreturn\u001b[0m \u001b[0mself\u001b[0m\u001b[0;34m.\u001b[0m\u001b[0m_engine\u001b[0m\u001b[0;34m.\u001b[0m\u001b[0mget_loc\u001b[0m\u001b[0;34m(\u001b[0m\u001b[0mkey\u001b[0m\u001b[0;34m)\u001b[0m\u001b[0;34m\u001b[0m\u001b[0;34m\u001b[0m\u001b[0m\n\u001b[1;32m   2657\u001b[0m             \u001b[0;32mexcept\u001b[0m \u001b[0mKeyError\u001b[0m\u001b[0;34m:\u001b[0m\u001b[0;34m\u001b[0m\u001b[0;34m\u001b[0m\u001b[0m\n\u001b[0;32m-> 2658\u001b[0;31m                 \u001b[0;32mreturn\u001b[0m \u001b[0mself\u001b[0m\u001b[0;34m.\u001b[0m\u001b[0m_engine\u001b[0m\u001b[0;34m.\u001b[0m\u001b[0mget_loc\u001b[0m\u001b[0;34m(\u001b[0m\u001b[0mself\u001b[0m\u001b[0;34m.\u001b[0m\u001b[0m_maybe_cast_indexer\u001b[0m\u001b[0;34m(\u001b[0m\u001b[0mkey\u001b[0m\u001b[0;34m)\u001b[0m\u001b[0;34m)\u001b[0m\u001b[0;34m\u001b[0m\u001b[0;34m\u001b[0m\u001b[0m\n\u001b[0m\u001b[1;32m   2659\u001b[0m         \u001b[0mindexer\u001b[0m \u001b[0;34m=\u001b[0m \u001b[0mself\u001b[0m\u001b[0;34m.\u001b[0m\u001b[0mget_indexer\u001b[0m\u001b[0;34m(\u001b[0m\u001b[0;34m[\u001b[0m\u001b[0mkey\u001b[0m\u001b[0;34m]\u001b[0m\u001b[0;34m,\u001b[0m \u001b[0mmethod\u001b[0m\u001b[0;34m=\u001b[0m\u001b[0mmethod\u001b[0m\u001b[0;34m,\u001b[0m \u001b[0mtolerance\u001b[0m\u001b[0;34m=\u001b[0m\u001b[0mtolerance\u001b[0m\u001b[0;34m)\u001b[0m\u001b[0;34m\u001b[0m\u001b[0;34m\u001b[0m\u001b[0m\n\u001b[1;32m   2660\u001b[0m         \u001b[0;32mif\u001b[0m \u001b[0mindexer\u001b[0m\u001b[0;34m.\u001b[0m\u001b[0mndim\u001b[0m \u001b[0;34m>\u001b[0m \u001b[0;36m1\u001b[0m \u001b[0;32mor\u001b[0m \u001b[0mindexer\u001b[0m\u001b[0;34m.\u001b[0m\u001b[0msize\u001b[0m \u001b[0;34m>\u001b[0m \u001b[0;36m1\u001b[0m\u001b[0;34m:\u001b[0m\u001b[0;34m\u001b[0m\u001b[0;34m\u001b[0m\u001b[0m\n",
      "\u001b[0;32mpandas/_libs/index.pyx\u001b[0m in \u001b[0;36mpandas._libs.index.IndexEngine.get_loc\u001b[0;34m()\u001b[0m\n",
      "\u001b[0;32mpandas/_libs/index.pyx\u001b[0m in \u001b[0;36mpandas._libs.index.IndexEngine.get_loc\u001b[0;34m()\u001b[0m\n",
      "\u001b[0;32mpandas/_libs/hashtable_class_helper.pxi\u001b[0m in \u001b[0;36mpandas._libs.hashtable.PyObjectHashTable.get_item\u001b[0;34m()\u001b[0m\n",
      "\u001b[0;32mpandas/_libs/hashtable_class_helper.pxi\u001b[0m in \u001b[0;36mpandas._libs.hashtable.PyObjectHashTable.get_item\u001b[0;34m()\u001b[0m\n",
      "\u001b[0;31mKeyError\u001b[0m: 'SH2out'"
     ]
    },
    {
     "data": {
      "image/png": "[encoded data removed]",
      "text/plain": [
       "<Figure size 1080x720 with 1 Axes>"
      ]
     },
     "metadata": {
      "needs_background": "light"
     },
     "output_type": "display_data"
    }
   ],
   "source": [
    "# Plot the graph for batch operation of light/dark cycling over 2 days\n",
    "from matplotlib.ticker import MaxNLocator\n",
    "\n",
    "kmch_low = pd.read_csv(\"./results/kmch_low.csv\")\n",
    "kmch_high = pd.read_csv(\"./results/kmch_high.csv\")\n",
    "\n",
    "def format_ticks():\n",
    "    plt.gca().yaxis.set_major_locator(MaxNLocator(prune='lower'))\n",
    "    plt.locator_params(nbins=5)\n",
    "    plt.locator_params(numticks=5)    \n",
    "\n",
    "\n",
    "fig1 = plt.figure(figsize=(9,6), dpi=120)\n",
    "ax1 = fig1.add_subplot(111)\n",
    "ax1.tick_params(axis=\"both\",\n",
    "               reset=False,\n",
    "               labelsize=16)\n",
    "font = {'family' : 'DejaVu Sans',\n",
    "        'weight' : 'bold',\n",
    "        'size'   : 14}\n",
    "\n",
    "plt.rc('font', **font)\n",
    "\n",
    "SCOD_low = kmch_low['SACout'] + kmch_low['SSout'] + kmch_low['SH2out'] + kmch_low['SIout']\n",
    "SCOD_high = kmch_high['SACout'] + kmch_high['SSout'] + kmch_high['SH2out'] + kmch_high['SIout']\n",
    "\n",
    "ax1.plot(kmch_low['time'],\n",
    "        (SCOD_low),\n",
    "         \"^\",\n",
    "         color=\"#a7aaaf\",\n",
    "         label='SCOD: $\\mathrm{k_{M,ch}}$ = $\\mathrm{0.07 \\, d^{-1}}$',\n",
    "         linewidth=3,\n",
    "         markevery=20)\n",
    "\n",
    "\n",
    "ax1.plot(kmch_low['time'],\n",
    "        (kmch_low['XPBout']),\n",
    "         \"-.\",\n",
    "         color=\"#a7aaaf\",\n",
    "         label='$\\mathrm{X_{PB}}$: $\\mathrm{k_{M,ch}}$ = $\\mathrm{0.07 \\, d^{-1}}$',\n",
    "         linewidth=3,\n",
    "         markevery=20)\n",
    "\n",
    "\n",
    "ax1.plot(kmch_high['time'],\n",
    "        (SCOD_high),\n",
    "         \"^\",\n",
    "         color=\"#444444\",\n",
    "         label='SCOD: $\\mathrm{k_{M,ch}}$ = $\\mathrm{0.7 \\, d^{-1}}$',\n",
    "         linewidth=3,\n",
    "         markevery=20)\n",
    "\n",
    "\n",
    "\n",
    "ax1.plot(kmch_high['time'],\n",
    "        (kmch_high['XPBout']),\n",
    "         \"-.\",\n",
    "         color=\"#444444\",\n",
    "         label='$\\mathrm{X_{PB}}$: $\\mathrm{k_{M,ch}}$ = $\\mathrm{0.7 \\, d^{-1}}$',\n",
    "         linewidth=3,\n",
    "         markevery=20)\n",
    "\n",
    "\n",
    "\n",
    "ax1.legend(fontsize=12, loc=(0.1, -0.3), ncol=2)\n",
    "plt.xlabel(r'$\\mathbf{t}$ [d]', fontweight='bold', fontsize=20)\n",
    "ax1.set_ylabel(r'$\\mathbf{SCOD}$ [g COD/m$^3$]', fontweight='bold', fontsize=20)\n",
    "ax1.axvspan(0, 0.5, alpha=0.5, color='#ffe4a6')\n",
    "ax1.axvspan(1.0, 1.5, alpha=0.5, color='#ffe4a6')\n",
    "plt.xlim([0, 2])\n",
    "plt.ylim([0, 1000])\n",
    "format_ticks()\n",
    "ax2 = ax1.twinx()\n",
    "plt.ylim([0, 1000])\n",
    "ax2.set_ylabel(r'$\\mathbf{X_{PB}}$ [g COD/m$^3$]', fontweight='bold', fontsize=20)\n",
    "format_ticks()\n",
    "\n",
    "fig1.tight_layout()\n",
    "\n",
    "fig1.savefig(\"./ch2_kmch.pdf\")"
   ]
  },
  {
   "cell_type": "code",
   "execution_count": null,
   "metadata": {},
   "outputs": [],
   "source": []
  },
  {
   "cell_type": "code",
   "execution_count": null,
   "metadata": {},
   "outputs": [],
   "source": []
  }
 ],
 "metadata": {
  "kernelspec": {
   "display_name": "Python 3",
   "language": "python",
   "name": "python3"
  },
  "language_info": {
   "codemirror_mode": {
    "name": "ipython",
    "version": 3
   },
   "file_extension": ".py",
   "mimetype": "text/x-python",
   "name": "python",
   "nbconvert_exporter": "python",
   "pygments_lexer": "ipython3",
   "version": "3.6.7"
  }
 },
 "nbformat": 4,
 "nbformat_minor": 2
}
