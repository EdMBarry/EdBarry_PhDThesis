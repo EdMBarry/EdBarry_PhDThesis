{
 "cells": [
  {
   "cell_type": "markdown",
   "metadata": {},
   "source": [
    "# Calculation of linear model for porosity"
   ]
  },
  {
   "cell_type": "code",
   "execution_count": 1,
   "metadata": {},
   "outputs": [],
   "source": [
    "import pandas as pd\n",
    "import matplotlib.pyplot as plt\n",
    "import scipy.stats as stats\n",
    "plt.style.use(\"ggplot\")"
   ]
  },
  {
   "cell_type": "code",
   "execution_count": 7,
   "metadata": {},
   "outputs": [
    {
     "data": {
      "text/html": [
       "<div>\n",
       "<style scoped>\n",
       "    .dataframe tbody tr th:only-of-type {\n",
       "        vertical-align: middle;\n",
       "    }\n",
       "\n",
       "    .dataframe tbody tr th {\n",
       "        vertical-align: top;\n",
       "    }\n",
       "\n",
       "    .dataframe thead th {\n",
       "        text-align: right;\n",
       "    }\n",
       "</style>\n",
       "<table border=\"1\" class=\"dataframe\">\n",
       "  <thead>\n",
       "    <tr style=\"text-align: right;\">\n",
       "      <th></th>\n",
       "      <th>dry</th>\n",
       "      <th>wet</th>\n",
       "      <th>void</th>\n",
       "      <th>wetSqd</th>\n",
       "    </tr>\n",
       "  </thead>\n",
       "  <tbody>\n",
       "    <tr>\n",
       "      <th>count</th>\n",
       "      <td>11.000000</td>\n",
       "      <td>11.000000</td>\n",
       "      <td>11.000000</td>\n",
       "      <td>1.100000e+01</td>\n",
       "    </tr>\n",
       "    <tr>\n",
       "      <th>mean</th>\n",
       "      <td>1106.636364</td>\n",
       "      <td>1016.272727</td>\n",
       "      <td>0.517218</td>\n",
       "      <td>1.032938e+06</td>\n",
       "    </tr>\n",
       "    <tr>\n",
       "      <th>std</th>\n",
       "      <td>40.438281</td>\n",
       "      <td>11.858254</td>\n",
       "      <td>0.156935</td>\n",
       "      <td>2.422004e+04</td>\n",
       "    </tr>\n",
       "    <tr>\n",
       "      <th>min</th>\n",
       "      <td>1034.000000</td>\n",
       "      <td>1005.000000</td>\n",
       "      <td>0.282700</td>\n",
       "      <td>1.010025e+06</td>\n",
       "    </tr>\n",
       "    <tr>\n",
       "      <th>25%</th>\n",
       "      <td>1082.500000</td>\n",
       "      <td>1008.000000</td>\n",
       "      <td>0.377200</td>\n",
       "      <td>1.016064e+06</td>\n",
       "    </tr>\n",
       "    <tr>\n",
       "      <th>50%</th>\n",
       "      <td>1121.000000</td>\n",
       "      <td>1012.000000</td>\n",
       "      <td>0.586900</td>\n",
       "      <td>1.024144e+06</td>\n",
       "    </tr>\n",
       "    <tr>\n",
       "      <th>75%</th>\n",
       "      <td>1124.500000</td>\n",
       "      <td>1022.500000</td>\n",
       "      <td>0.641000</td>\n",
       "      <td>1.045562e+06</td>\n",
       "    </tr>\n",
       "    <tr>\n",
       "      <th>max</th>\n",
       "      <td>1179.000000</td>\n",
       "      <td>1036.000000</td>\n",
       "      <td>0.716500</td>\n",
       "      <td>1.073296e+06</td>\n",
       "    </tr>\n",
       "  </tbody>\n",
       "</table>\n",
       "</div>"
      ],
      "text/plain": [
       "               dry          wet       void        wetSqd\n",
       "count    11.000000    11.000000  11.000000  1.100000e+01\n",
       "mean   1106.636364  1016.272727   0.517218  1.032938e+06\n",
       "std      40.438281    11.858254   0.156935  2.422004e+04\n",
       "min    1034.000000  1005.000000   0.282700  1.010025e+06\n",
       "25%    1082.500000  1008.000000   0.377200  1.016064e+06\n",
       "50%    1121.000000  1012.000000   0.586900  1.024144e+06\n",
       "75%    1124.500000  1022.500000   0.641000  1.045562e+06\n",
       "max    1179.000000  1036.000000   0.716500  1.073296e+06"
      ]
     },
     "execution_count": 7,
     "metadata": {},
     "output_type": "execute_result"
    }
   ],
   "source": [
    "raw = pd.read_csv(\"porosity.csv\", \n",
    "                  names=[\"dry\", \"wet\", \"void\"],\n",
    "                  header=0)\n",
    "raw[\"wetSqd\"] = raw[\"wet\"]**2\n",
    "raw.describe()"
   ]
  },
  {
   "cell_type": "markdown",
   "metadata": {},
   "source": [
    "## Conduct a linear regression on wet density"
   ]
  },
  {
   "cell_type": "code",
   "execution_count": 8,
   "metadata": {},
   "outputs": [
    {
     "name": "stdout",
     "output_type": "stream",
     "text": [
      "slope: -0.007526    intercept: 8.165275\n"
     ]
    },
    {
     "data": {
      "text/plain": [
       "Text(0,0.5,'Void volume fraction')"
      ]
     },
     "execution_count": 8,
     "metadata": {},
     "output_type": "execute_result"
    },
    {
     "data": {
      "image/png": "[encoded data removed]",
      "text/plain": [
       "<Figure size 432x288 with 1 Axes>"
      ]
     },
     "metadata": {
      "needs_background": "light"
     },
     "output_type": "display_data"
    }
   ],
   "source": [
    "slope, intercept, r_value, p_value, std_err = stats.linregress(raw[\"wet\"], raw[\"void\"])\n",
    "print(\"slope: %f    intercept: %f\" % (slope, intercept))\n",
    "\n",
    "\n",
    "plt.plot(raw[\"wet\"], raw[\"void\"], 'o')\n",
    "plt.plot(raw[\"wet\"], intercept + raw[\"wet\"]*slope)\n",
    "plt.xlabel(\"Wet density ($\\mathrm{kg\\, m^{-3}}$)\")\n",
    "plt.ylabel(\"Void volume fraction\")"
   ]
  },
  {
   "cell_type": "markdown",
   "metadata": {},
   "source": [
    "We will therefore describe the porosity as a linear model of wet density.\n",
    "\n",
    "The equation we will use is \n",
    "\n",
    "$$\n",
    "\\epsilon = 8.17 - 7.5\\times 10^{-3} \\rho_{wet}\n",
    "$$"
   ]
  },
  {
   "cell_type": "markdown",
   "metadata": {},
   "source": [
    "## Linear regression on a 2nd order polynomial on wet density"
   ]
  },
  {
   "cell_type": "code",
   "execution_count": 9,
   "metadata": {},
   "outputs": [],
   "source": [
    "from sklearn import linear_model"
   ]
  },
  {
   "cell_type": "code",
   "execution_count": 10,
   "metadata": {},
   "outputs": [
    {
     "name": "stdout",
     "output_type": "stream",
     "text": [
      "[ 3.98707710e-01 -1.98894919e-04] -199.23241596621412\n"
     ]
    }
   ],
   "source": [
    "X = raw[[\"wet\", \"wetSqd\"]].copy()\n",
    "y = raw[\"void\"]\n",
    "\n",
    "lm = linear_model.LinearRegression()\n",
    "model = lm.fit(X, y)\n",
    "\n",
    "icept = model.intercept_\n",
    "coeffs = model.coef_\n",
    "print(model.coef_, model.intercept_)\n",
    "\n"
   ]
  },
  {
   "cell_type": "code",
   "execution_count": 13,
   "metadata": {},
   "outputs": [
    {
     "data": {
      "text/plain": [
       "Text(0,0.5,'Void volume fraction')"
      ]
     },
     "execution_count": 13,
     "metadata": {},
     "output_type": "execute_result"
    },
    {
     "data": {
      "image/png": "[encoded data removed]",
      "text/plain": [
       "<Figure size 432x288 with 1 Axes>"
      ]
     },
     "metadata": {
      "needs_background": "light"
     },
     "output_type": "display_data"
    }
   ],
   "source": [
    "plt.plot(raw[\"wet\"], raw[\"void\"], 'o')\n",
    "plt.plot(raw[\"wet\"], icept + coeffs[0]*X[\"wet\"] + X[\"wetSqd\"]*coeffs[1])\n",
    "plt.xlabel(\"Wet density ($\\mathrm{kg\\, m^{-3}}$)\")\n",
    "plt.ylabel(\"Void volume fraction\")"
   ]
  },
  {
   "cell_type": "code",
   "execution_count": null,
   "metadata": {},
   "outputs": [],
   "source": [
    "wet"
   ]
  },
  {
   "cell_type": "code",
   "execution_count": null,
   "metadata": {},
   "outputs": [],
   "source": []
  }
 ],
 "metadata": {
  "kernelspec": {
   "display_name": "Python 3",
   "language": "python",
   "name": "python3"
  },
  "language_info": {
   "codemirror_mode": {
    "name": "ipython",
    "version": 3
   },
   "file_extension": ".py",
   "mimetype": "text/x-python",
   "name": "python",
   "nbconvert_exporter": "python",
   "pygments_lexer": "ipython3",
   "version": "3.6.7"
  }
 },
 "nbformat": 4,
 "nbformat_minor": 2
}
