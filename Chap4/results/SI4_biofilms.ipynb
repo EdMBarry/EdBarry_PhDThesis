{
  "cells": [
    {
      "cell_type": "markdown",
      "source": [
        "# Supporting information 4: Biofilms\n",
        "\n",
        "This section includes post processing and analysis for the biofilm paper. All analyses of independent cases were done using Paraview directly, but the remaining analyses where we look at the comparisons between the various cases will be done in this notebook."
      ],
      "metadata": {}
    },
    {
      "cell_type": "code",
      "source": [
        "# Import all the relevant libraries\n",
        "import numpy as np\n",
        "import pandas as pd\n",
        "import matplotlib.pyplot as plt\n",
        "\n",
        "%matplotlib inline"
      ],
      "outputs": [],
      "execution_count": 2,
      "metadata": {
        "collapsed": false,
        "outputHidden": false,
        "inputHidden": false
      }
    },
    {
      "cell_type": "markdown",
      "source": [
        "## Import the results from the temporal evolution of irradiance and specific autotrophic rate\n",
        "\n",
        "Note that the source terms for $\\alpha_{XPB}$ were written out to disk during the simulations, and the volume averages were calculated for these quantities. They need to be converted to a specific autotrophic rate ($\\mathrm{kgCOD\\, m^{-3} \\, d^{-1}}$) with a multiplication factor of 78.38 $\\mathrm{kgCOD\\, m^{-3}}$. "
      ],
      "metadata": {}
    }
  ],
  "metadata": {
    "kernel_info": {
      "name": "python3"
    },
    "language_info": {
      "name": "python",
      "version": "3.7.3",
      "mimetype": "text/x-python",
      "codemirror_mode": {
        "name": "ipython",
        "version": 3
      },
      "pygments_lexer": "ipython3",
      "nbconvert_exporter": "python",
      "file_extension": ".py"
    },
    "kernelspec": {
      "name": "python3",
      "language": "python",
      "display_name": "Python 3"
    },
    "nteract": {
      "version": "0.14.3"
    }
  },
  "nbformat": 4,
  "nbformat_minor": 0
}